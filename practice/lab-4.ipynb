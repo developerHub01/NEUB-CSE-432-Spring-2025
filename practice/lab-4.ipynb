{
 "cells": [
  {
   "cell_type": "markdown",
   "id": "5c3dfa33",
   "metadata": {},
   "source": [
    "## Task 1\n",
    "Symbolic Algebra in Python\n",
    "We can use sympy library to do symbolic algebra in python. "
   ]
  },
  {
   "cell_type": "code",
   "execution_count": 12,
   "id": "fa8de6cc",
   "metadata": {},
   "outputs": [
    {
     "name": "stdout",
     "output_type": "stream",
     "text": [
      "x**2\n",
      "x**2 + 2*x*y + y**2\n",
      "'x'\n"
     ]
    }
   ],
   "source": [
    "import sympy as sym\n",
    "from pprint import pprint \n",
    "\n",
    "x = sym.Symbol(\"x\")\n",
    "y = sym.Symbol(\"y\")\n",
    "\n",
    "expression1 = x**2\n",
    "pprint(expression1)\n",
    "\n",
    "expression2 = (x+y)**2\n",
    "\n",
    "pprint(sym.expand(expression2))\n",
    "pprint(x.name)"
   ]
  },
  {
   "cell_type": "code",
   "execution_count": null,
   "id": "2b2215e6",
   "metadata": {},
   "outputs": [
    {
     "name": "stdout",
     "output_type": "stream",
     "text": [
      "       2\n",
      "(x + y) \n",
      " 2            2\n",
      "x  + 2⋅x⋅y + y \n"
     ]
    },
    {
     "data": {
      "text/latex": [
       "$\\displaystyle \\int x\\, dx$"
      ],
      "text/plain": [
       "Integral(x, x)"
      ]
     },
     "execution_count": 37,
     "metadata": {},
     "output_type": "execute_result"
    }
   ],
   "source": [
    "import sympy as sym\n",
    "\n",
    "x, y, z = sym.symbols(\"x y z\")\n",
    "expression1 = x**2+2*x*y+y**2\n",
    "sym.pprint(sym.factor(expression1))\n",
    "expression2 = (x + y)**2\n",
    "sym.pprint(sym.expand(expression2))\n",
    "\n",
    "sym.Integral(x)"
   ]
  },
  {
   "cell_type": "code",
   "execution_count": 57,
   "id": "7b485af8",
   "metadata": {},
   "outputs": [
    {
     "name": "stdout",
     "output_type": "stream",
     "text": [
      " 9    8    7    6    5    4    3    2    \n",
      "x    x    x    x    x    x    x    x     \n",
      "── + ── + ── + ── + ── + ── + ── + ── + x\n",
      "9    8    7    6    5    4    3    2     \n",
      "  ___________\n",
      "╲╱ x + y + z \n",
      "⌠                 \n",
      "⎮   ___________   \n",
      "⎮ ╲╱ x + y + z  dx\n",
      "⌡                 \n",
      "⌠                        \n",
      "⎮ ⎛          ________⎞   \n",
      "⎮ ⎜ 3       ╱     1  ⎟   \n",
      "⎮ ⎜y  +    ╱  y + ── ⎟ dx\n",
      "⎮ ⎜       ╱        2 ⎟   \n",
      "⎮ ⎝     ╲╱        x  ⎠   \n",
      "⌡                        \n"
     ]
    }
   ],
   "source": [
    "import sympy as sym\n",
    "\n",
    "n = 10\n",
    "x = sym.Symbol(\"x\")\n",
    "\n",
    "# x + x2/2 + x3/3 + x4/4 + .... + xn/n\n",
    "\n",
    "expression = 0\n",
    "\n",
    "for i in range(1, n):\n",
    "    expression += x**i/i\n",
    "\n",
    "sym.pprint(expression)\n",
    "\n",
    "sym.pprint(sym.sqrt(x+y+z))\n",
    "sym.pprint(sym.Integral(sym.sqrt(x+y+z), x))\n",
    "\n",
    "sym.pprint(sym.Integral(sym.sqrt(1/x**2 + y) + y**3, x))"
   ]
  },
  {
   "cell_type": "code",
   "execution_count": 3,
   "id": "e6a650a4",
   "metadata": {},
   "outputs": [
    {
     "name": "stdout",
     "output_type": "stream",
     "text": [
      "[0, 9]\n",
      "cos(x)\n",
      "-sin(x)\n",
      "3*sin(x)**2*cos(x) - 3*sin(x)*cos(x)**2 + 10*exp(-10*x)\n"
     ]
    }
   ],
   "source": [
    "import sympy as sym\n",
    "from sympy import *\n",
    "\n",
    "init_printing()\n",
    "\n",
    "x = Symbol(\"x\")\n",
    "\n",
    "solution = solve(x**2-9*x, x)\n",
    "print(solution)\n",
    "\n",
    "print(diff(sin(x), x))\n",
    "print(diff(cos(x), x))\n",
    "print(diff(sin(x)**3 + cos(x)**3 - exp(-10*x), x))"
   ]
  },
  {
   "cell_type": "code",
   "execution_count": 6,
   "id": "a6317d39",
   "metadata": {},
   "outputs": [
    {
     "name": "stdout",
     "output_type": "stream",
     "text": [
      "{x: 5, y: -20/7, z: 15/7}\n"
     ]
    }
   ],
   "source": [
    "import sympy as sym\n",
    "from sympy import *\n",
    "init_printing()\n",
    "x,y,z=symbols('x y z')\n",
    "\n",
    "solution= solve((3*x+5*y+2*z-5,4*x+5*y+2*z-10,10*x+20*y+50*z-100),(x,y,z))\n",
    "print(solution)"
   ]
  }
 ],
 "metadata": {
  "kernelspec": {
   "display_name": "Python 3",
   "language": "python",
   "name": "python3"
  },
  "language_info": {
   "codemirror_mode": {
    "name": "ipython",
    "version": 3
   },
   "file_extension": ".py",
   "mimetype": "text/x-python",
   "name": "python",
   "nbconvert_exporter": "python",
   "pygments_lexer": "ipython3",
   "version": "3.13.3"
  }
 },
 "nbformat": 4,
 "nbformat_minor": 5
}
