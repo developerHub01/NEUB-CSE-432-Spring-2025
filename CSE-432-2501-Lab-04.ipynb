{
 "cells": [
  {
   "cell_type": "markdown",
   "metadata": {},
   "source": [
    "# NEUB CSE-432 Spring 2025 Lab 4"
   ]
  },
  {
   "cell_type": "markdown",
   "metadata": {},
   "source": [
    "## Task 1\n",
    "Symbolic Algebra in Python\n",
    "We can use sympy library to do symbolic algebra in python. "
   ]
  },
  {
   "cell_type": "code",
   "execution_count": 1,
   "metadata": {},
   "outputs": [
    {
     "name": "stdout",
     "output_type": "stream",
     "text": [
      "3*x + 3*y + 25\n",
      "(x + y)**2*(2*x - y)\n",
      "2*x**3 + 3*x**2*y - y**3\n"
     ]
    }
   ],
   "source": [
    "import sympy as sym\n",
    "x=sym.Symbol('x')\n",
    "y=sym.Symbol('y')\n",
    "expression= x+x+y+5+x+y+20+y # sympy will simplify the expression\n",
    "print(expression)\n",
    "expression2=(x+y)*(x+y)*(2*x-y)\n",
    "print(expression2)\n",
    "print(sym.expand(expression2))"
   ]
  },
  {
   "cell_type": "markdown",
   "metadata": {},
   "source": [
    "## Task 2\n",
    "Pretty print using sympy"
   ]
  },
  {
   "cell_type": "code",
   "execution_count": 2,
   "metadata": {
    "scrolled": true
   },
   "outputs": [
    {
     "name": "stdout",
     "output_type": "stream",
     "text": [
      "(x + y)**2*(2*x - y)\n",
      "       2          \n",
      "(x + y) ⋅(2⋅x - y)\n",
      "   3      2      3\n",
      "2⋅x  + 3⋅x ⋅y - y \n",
      "⌠             \n",
      "⎮      ____   \n",
      "⎮     ╱ 1     \n",
      "⎮    ╱  ──  dx\n",
      "⎮   ╱    2    \n",
      "⎮ ╲╱    x     \n",
      "⌡             \n",
      "⌠                        \n",
      "⎮ ⎛          ________⎞   \n",
      "⎮ ⎜ 3       ╱     1  ⎟   \n",
      "⎮ ⎜y  +    ╱  y + ── ⎟ dx\n",
      "⎮ ⎜       ╱        2 ⎟   \n",
      "⎮ ⎝     ╲╱        x  ⎠   \n",
      "⌡                        \n",
      "⌠                        \n",
      "⎮ ⎛          ________⎞   \n",
      "⎮ ⎜ 3       ╱     1  ⎟   \n",
      "⎮ ⎜y  +    ╱  y + ── ⎟ dy\n",
      "⎮ ⎜       ╱        2 ⎟   \n",
      "⎮ ⎝     ╲╱        x  ⎠   \n",
      "⌡                        \n"
     ]
    },
    {
     "data": {
      "text/latex": [
       "$\\displaystyle \\int \\left(y^{3} + \\sqrt{y + \\frac{1}{x^{2}}}\\right)\\, dy$"
      ],
      "text/plain": [
       "Integral(y**3 + sqrt(y + x**(-2)), y)"
      ]
     },
     "execution_count": 2,
     "metadata": {},
     "output_type": "execute_result"
    }
   ],
   "source": [
    "import sympy as sym\n",
    "from sympy import *\n",
    "x,y,z=symbols('x y z')\n",
    "\n",
    "expression=(x+y)*(x+y)*(2*x-y)\n",
    "print(expression)\n",
    "pprint(expression)\n",
    "pprint(expand(expression))\n",
    "pprint(Integral(sqrt(1/x**2),x))\n",
    "pprint(Integral(sqrt(1/x**2+y)+y**3,x))\n",
    "pprint(Integral(sqrt(1/x**2+y)+y**3,y))\n",
    "Integral(sqrt(1/x**2+y)+y**3,y)\n"
   ]
  },
  {
   "cell_type": "markdown",
   "metadata": {},
   "source": [
    "## Task 3\n",
    "Solving simple equations using sympy"
   ]
  },
  {
   "cell_type": "code",
   "execution_count": 3,
   "metadata": {},
   "outputs": [
    {
     "name": "stdout",
     "output_type": "stream",
     "text": [
      "[0, 9]\n",
      "[0, -sqrt(3), sqrt(3), -sqrt(3)*I, sqrt(3)*I]\n"
     ]
    }
   ],
   "source": [
    "import sympy as sym\n",
    "from sympy import *\n",
    "init_printing()\n",
    "x=Symbol('x')\n",
    "solution=solve(x**2-9*x,x)\n",
    "print(solution)\n",
    "solution2=solve(x**5-9*x,x)\n",
    "print(solution2)"
   ]
  },
  {
   "cell_type": "markdown",
   "metadata": {},
   "source": [
    "## Task 4\n",
    "Computing differentiation using sympy"
   ]
  },
  {
   "cell_type": "code",
   "execution_count": 4,
   "metadata": {},
   "outputs": [
    {
     "name": "stdout",
     "output_type": "stream",
     "text": [
      "cos(x)\n",
      "-sin(x)\n",
      "3*sin(x)**2*cos(x) - sin(x) - 10*exp(-10*x)\n",
      "     4                          -10⋅x\n",
      "5⋅sin (x)⋅cos(x) - sin(x) - 10⋅ℯ     \n",
      "-3*sin(x)**3 + 6*sin(x)*cos(x)**2 - cos(x) + 100*exp(-10*x)\n"
     ]
    }
   ],
   "source": [
    "import sympy as sym\n",
    "from sympy import *\n",
    "init_printing()\n",
    "x=Symbol('x')\n",
    "print(diff(sym.sin(x),x))\n",
    "print(diff(sym.cos(x),x))\n",
    "print(diff(sym.sin(x)**3+sym.cos(x)+sym.exp(-10*x),x))\n",
    "pprint(diff(sym.sin(x)**(2+3)+sym.cos(x)+sym.exp(-10*x),x))\n",
    "# nth order differentiation\n",
    "print(diff(sym.sin(x)**3+sym.cos(x)+sym.exp(-10*x),x,2))"
   ]
  },
  {
   "cell_type": "markdown",
   "metadata": {},
   "source": [
    "## Task 5\n",
    "Computing integration using sympy "
   ]
  },
  {
   "cell_type": "code",
   "execution_count": 5,
   "metadata": {},
   "outputs": [
    {
     "name": "stdout",
     "output_type": "stream",
     "text": [
      "-cos(x)\n",
      "sin(x)\n",
      "sin(x) + cos(x)**3/3 - cos(x) - exp(-10*x)/10\n",
      "            3                -10⋅x\n",
      "         cos (x)            ℯ     \n",
      "sin(x) + ─────── - cos(x) - ──────\n",
      "            3                 10  \n",
      "-exp(-10)/10 + 2*sin(1) + exp(10)/10\n",
      "   -10⋅π    10⋅π\n",
      "  ℯ        ℯ    \n",
      "- ────── + ─────\n",
      "    10       10 \n",
      "1\n"
     ]
    }
   ],
   "source": [
    "import sympy as sym\n",
    "from sympy import *\n",
    "init_printing()\n",
    "x=Symbol('x')\n",
    "print(integrate(sym.sin(x),x))\n",
    "print(integrate(sym.cos(x),x))\n",
    "print(integrate(sym.sin(x)**3+sym.cos(x)+sym.exp(-10*x),x))\n",
    "pprint(integrate(sym.sin(x)**3+sym.cos(x)+sym.exp(-10*x),x))\n",
    "#Definite Integral\n",
    "print(integrate(sym.sin(x)**3+sym.cos(x)+sym.exp(-10*x),(x,-1,1)))\n",
    "pprint(integrate(sym.sin(x)**3+sym.cos(x)+sym.exp(-10*x),(x,-pi,pi)))\n",
    "\n",
    "print(integrate(sym.exp(-x),(x,0,sym.oo)))"
   ]
  },
  {
   "cell_type": "markdown",
   "metadata": {},
   "source": [
    "## Task 6\n",
    "Solving simultaneous equations using sympy"
   ]
  },
  {
   "cell_type": "code",
   "execution_count": 6,
   "metadata": {},
   "outputs": [
    {
     "name": "stdout",
     "output_type": "stream",
     "text": [
      "{x: 5, y: -20/7, z: 15/7}\n"
     ]
    }
   ],
   "source": [
    "import sympy as sym\n",
    "from sympy import *\n",
    "init_printing()\n",
    "x,y,z=symbols('x y z')\n",
    "solution= solve((3*x+5*y+2*z-5,4*x+5*y+2*z-10,10*x+20*y+50*z-100),(x,y,z))\n",
    "print(solution)"
   ]
  },
  {
   "cell_type": "markdown",
   "metadata": {},
   "source": [
    "## Task 7\n",
    "Finding factors and solving polynomial"
   ]
  },
  {
   "cell_type": "code",
   "execution_count": 7,
   "metadata": {},
   "outputs": [
    {
     "name": "stdout",
     "output_type": "stream",
     "text": [
      "[-2]\n",
      "       4\n",
      "(x + 2) \n"
     ]
    }
   ],
   "source": [
    "import sympy as sym\n",
    "from sympy import *\n",
    "init_printing()\n",
    "x,y,z=symbols('x y z')\n",
    "f=x**4+8*x**3+24*x**2+32*x+16\n",
    "pprint(solve(f))\n",
    "factor(f)\n",
    "pprint(factor(f))"
   ]
  },
  {
   "cell_type": "markdown",
   "metadata": {},
   "source": [
    "## Home Task \n",
    "1. Solve differential equation using sympy"
   ]
  }
 ],
 "metadata": {
  "kernelspec": {
   "display_name": "Python 3",
   "language": "python",
   "name": "python3"
  },
  "language_info": {
   "codemirror_mode": {
    "name": "ipython",
    "version": 3
   },
   "file_extension": ".py",
   "mimetype": "text/x-python",
   "name": "python",
   "nbconvert_exporter": "python",
   "pygments_lexer": "ipython3",
   "version": "3.8.5"
  }
 },
 "nbformat": 4,
 "nbformat_minor": 4
}
