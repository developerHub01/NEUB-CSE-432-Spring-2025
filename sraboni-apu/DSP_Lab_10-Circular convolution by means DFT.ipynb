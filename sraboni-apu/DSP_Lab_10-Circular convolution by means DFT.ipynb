{
 "cells": [
  {
   "cell_type": "code",
   "execution_count": 13,
   "metadata": {},
   "outputs": [],
   "source": [
    "import numpy as np\n",
    "import matplotlib.pyplot as plt"
   ]
  },
  {
   "cell_type": "code",
   "execution_count": 14,
   "metadata": {},
   "outputs": [
    {
     "name": "stdout",
     "output_type": "stream",
     "text": [
      "[ 2  4  7 13 19 13 17 15]\n"
     ]
    }
   ],
   "source": [
    "x = [1,2,3,4,5]\n",
    "h = [2,0,1,3]\n",
    "\n",
    "N = len(x) + len(h) -1\n",
    "y = np.convolve(x,h,'full')\n",
    "print(y)"
   ]
  },
  {
   "cell_type": "code",
   "execution_count": 16,
   "metadata": {},
   "outputs": [],
   "source": [
    "#DFT\n",
    "def DFT(x,N):\n",
    "    X = np.zeros(N,dtype = 'complex_')\n",
    "    for k in range(N):\n",
    "        for n in range(N):\n",
    "            X[k] = X[k] + x[n]*np.exp(-1j*2*np.pi*k*n/N)\n",
    "    return X\n"
   ]
  },
  {
   "cell_type": "code",
   "execution_count": 17,
   "metadata": {},
   "outputs": [],
   "source": [
    "#IDFT\n",
    "def IDFT(X,N):\n",
    "    y = np.zeros(N,dtype = 'complex_')\n",
    "    for n in range(N):\n",
    "        for k in range(N):\n",
    "            y[n] = y[n]+X[k]*np.exp(1j*2*np.pi*k*n/N)\n",
    "    return y/N"
   ]
  },
  {
   "cell_type": "code",
   "execution_count": 19,
   "metadata": {},
   "outputs": [
    {
     "name": "stdout",
     "output_type": "stream",
     "text": [
      "[ 2.  4.  7. 13. 19. 13. 17. 15.]\n"
     ]
    }
   ],
   "source": [
    "x=np.pad(x,(0,N-len(x)),'constant')\n",
    "h=np.pad(h,(0,N-len(h)),'constant')\n",
    "X = DFT(x,N)\n",
    "H = DFT(h,N)\n",
    "Y = X*H\n",
    "y = np.real(IDFT(Y,N))\n",
    "print(y)\n"
   ]
  },
  {
   "cell_type": "code",
   "execution_count": null,
   "metadata": {},
   "outputs": [],
   "source": []
  }
 ],
 "metadata": {
  "kernelspec": {
   "display_name": "Python 3",
   "language": "python",
   "name": "python3"
  },
  "language_info": {
   "codemirror_mode": {
    "name": "ipython",
    "version": 3
   },
   "file_extension": ".py",
   "mimetype": "text/x-python",
   "name": "python",
   "nbconvert_exporter": "python",
   "pygments_lexer": "ipython3",
   "version": "3.8.5"
  }
 },
 "nbformat": 4,
 "nbformat_minor": 4
}
